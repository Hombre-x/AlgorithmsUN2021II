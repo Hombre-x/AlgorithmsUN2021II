{
  "cells": [
    {
      "cell_type": "markdown",
      "metadata": {
        "id": "M52fKMR-E3qt"
      },
      "source": [
        "## **3. Functions and Objective-Oriented Programming**\n",
        "\n",
        "### **Functions**\n",
        "A function is a reusable block of code. We can use a function to output a value, or do anything else we want. We can easily define our own function by using the keyword \"def\"."
      ]
    },
    {
      "cell_type": "code",
      "execution_count": 1,
      "metadata": {
        "colab": {
          "base_uri": "https://localhost:8080/"
        },
        "id": "KM0-crDaFHQh",
        "outputId": "588b4bde-075f-492f-ecbf-8ec9a69e7f49"
      },
      "outputs": [
        {
          "name": "stdout",
          "output_type": "stream",
          "text": [
            "6\n"
          ]
        }
      ],
      "source": [
        "# QuantConnect Example\n",
        "def product(x,y):\n",
        "    return x*y\n",
        "print(product(2,3))"
      ]
    },
    {
      "cell_type": "code",
      "execution_count": 2,
      "metadata": {
        "colab": {
          "base_uri": "https://localhost:8080/"
        },
        "id": "jyPYUQMeFHi3",
        "outputId": "982d244a-25db-4d1d-9a67-ba68a5349c48"
      },
      "outputs": [],
      "source": [
        "# My Example\n"
      ]
    },
    {
      "cell_type": "markdown",
      "metadata": {
        "id": "lMGnB5IBFlFH"
      },
      "source": [
        "The keyword \"def\" is followed by the function name and the parenthesized list of formal parameters. The statements that form the body of the function start at the next line, and must be indented. The product() function above has \"x\" and \"y\" as its parameters. A function doesn't necessarily have parameters:\n",
        "\n"
      ]
    },
    {
      "cell_type": "code",
      "execution_count": 3,
      "metadata": {
        "colab": {
          "base_uri": "https://localhost:8080/"
        },
        "id": "qGj24R2AFnA_",
        "outputId": "99024418-4ecf-4bdb-d808-14d0f0d95902"
      },
      "outputs": [
        {
          "name": "stdout",
          "output_type": "stream",
          "text": [
            "Welcome to QuantConnect\n"
          ]
        }
      ],
      "source": [
        "# QuantConnect Example\n",
        "def say_hi():\n",
        "    print(\"Welcome to QuantConnect\")\n",
        "say_hi()"
      ]
    },
    {
      "cell_type": "code",
      "execution_count": 4,
      "metadata": {
        "colab": {
          "base_uri": "https://localhost:8080/"
        },
        "id": "X3rRtjMbFvTz",
        "outputId": "40f8e4d7-81f0-4be4-f3ef-20a4c1858a00"
      },
      "outputs": [],
      "source": [
        "# My Example\n"
      ]
    },
    {
      "cell_type": "markdown",
      "metadata": {},
      "source": [
        "<br>"
      ]
    },
    {
      "cell_type": "markdown",
      "metadata": {
        "id": "PgCvP6uZF4l9"
      },
      "source": [
        "### **Built-in Function**\n",
        "range() is a function that creates a list containing an arithmetic sequence. It's often used in for loops. The arguments must be integers. If the \"step\" argument is omitted, it defaults to 1."
      ]
    },
    {
      "cell_type": "code",
      "execution_count": 5,
      "metadata": {
        "colab": {
          "base_uri": "https://localhost:8080/"
        },
        "id": "GinjsArKF9pi",
        "outputId": "9788ae4c-357d-4336-8b9c-f86967c15e9e"
      },
      "outputs": [
        {
          "name": "stdout",
          "output_type": "stream",
          "text": [
            "range(0, 10)\n",
            "range(1, 11)\n",
            "range(1, 11, 2)\n"
          ]
        }
      ],
      "source": [
        "print(range(10))\n",
        "print(range(1, 11))\n",
        "print(range(1, 11, 2))"
      ]
    },
    {
      "cell_type": "markdown",
      "metadata": {
        "id": "ZI3BNYUeF9X-"
      },
      "source": [
        "len() is another function used together with range() to create a for loop. This function returns the length of an object. The argument must be a sequence or a collection.\n",
        "\n"
      ]
    },
    {
      "cell_type": "code",
      "execution_count": 6,
      "metadata": {
        "colab": {
          "base_uri": "https://localhost:8080/"
        },
        "id": "Ac-o8qqiGPfs",
        "outputId": "d6b98b14-a04b-4f2f-fdb5-70c033115f54"
      },
      "outputs": [
        {
          "name": "stdout",
          "output_type": "stream",
          "text": [
            "The number of tickers is 8\n",
            "1 AAPL\n",
            "2 GOOGL\n",
            "3 IBM\n",
            "4 FB\n",
            "5 F\n",
            "6 V\n",
            "7 G\n",
            "8 GE\n"
          ]
        }
      ],
      "source": [
        "# QuantConnect Example\n",
        "tickers = ['AAPL', 'GOOGL', 'IBM', 'FB', 'F', 'V', 'G', 'GE']\n",
        "print(\"The number of tickers is {}\".format(len(tickers)))\n",
        "for k in range(len(tickers)):\n",
        "    print(k + 1, tickers[k])"
      ]
    },
    {
      "cell_type": "code",
      "execution_count": 7,
      "metadata": {
        "colab": {
          "base_uri": "https://localhost:8080/"
        },
        "id": "UlQYu2jcGEcf",
        "outputId": "0af8bfea-fb66-4d58-f446-e6292352b922"
      },
      "outputs": [],
      "source": [
        "# My Example\n"
      ]
    },
    {
      "cell_type": "markdown",
      "metadata": {
        "id": "4kGxUExtGrgp"
      },
      "source": [
        "- Note: If you want to print only the tickers without those numbers, then simply write \"for ticker in tickers: print ticker\"\n",
        "\n",
        "map() is a function that applies a specific function to every item of a sequence or collection, and returns a list of the results."
      ]
    },
    {
      "cell_type": "code",
      "execution_count": 8,
      "metadata": {
        "colab": {
          "base_uri": "https://localhost:8080/"
        },
        "id": "XLUBEeq8GHKK",
        "outputId": "994b51d0-c97a-4d8b-8a14-07333b0f9854"
      },
      "outputs": [
        {
          "name": "stdout",
          "output_type": "stream",
          "text": [
            "[4, 4, 3, 2, 1, 1, 1, 2]\n"
          ]
        }
      ],
      "source": [
        "# QuantConnect Example\n",
        "tickers = ['AAPL','GOOG','IBM','FB','F','V', 'G', 'GE']\n",
        "print(list(map(len,tickers)))"
      ]
    },
    {
      "cell_type": "code",
      "execution_count": 9,
      "metadata": {
        "colab": {
          "base_uri": "https://localhost:8080/"
        },
        "id": "ADO3i4yBG3cV",
        "outputId": "a9b62faa-49a7-468b-c3f3-edbbe3f2cb63"
      },
      "outputs": [],
      "source": [
        "# My Example\n"
      ]
    },
    {
      "cell_type": "markdown",
      "metadata": {
        "id": "xWny8yLHHNy7"
      },
      "source": [
        "The **lambda operator** is a way to create small anonymous functions. These functions are just needed where they have been created. For Example:\n",
        "\n"
      ]
    },
    {
      "cell_type": "code",
      "execution_count": 10,
      "metadata": {
        "colab": {
          "base_uri": "https://localhost:8080/"
        },
        "id": "A40c-MiCHOMQ",
        "outputId": "d49a879c-d2d6-4132-feac-1d993745ffa9"
      },
      "outputs": [
        {
          "data": {
            "text/plain": [
              "[0, 1, 4, 9, 16, 25, 36, 49, 64, 81]"
            ]
          },
          "execution_count": 10,
          "metadata": {},
          "output_type": "execute_result"
        }
      ],
      "source": [
        "# QuantConnect Example\n",
        "list(map(lambda x: x ** 2, range(10)))"
      ]
    },
    {
      "cell_type": "code",
      "execution_count": 11,
      "metadata": {},
      "outputs": [],
      "source": [
        "#My Example"
      ]
    },
    {
      "cell_type": "markdown",
      "metadata": {
        "id": "EDr8_yW9IGvg"
      },
      "source": [
        "map() can be applied to more than one list. The lists have to have the same length.\n",
        "\n"
      ]
    },
    {
      "cell_type": "code",
      "execution_count": 12,
      "metadata": {
        "colab": {
          "base_uri": "https://localhost:8080/"
        },
        "id": "pnW1i5vtIGc9",
        "outputId": "98a7c97d-1ae8-40c4-ca13-45866eb3bdbf"
      },
      "outputs": [
        {
          "data": {
            "text/plain": [
              "[6, 6, 6, 6, 6]"
            ]
          },
          "execution_count": 12,
          "metadata": {},
          "output_type": "execute_result"
        }
      ],
      "source": [
        "# QuantConnect Example\n",
        "list(map(lambda x, y: x+y, [1,2,3,4,5], [5,4,3,2,1]))"
      ]
    },
    {
      "cell_type": "code",
      "execution_count": 13,
      "metadata": {},
      "outputs": [],
      "source": [
        "# My Example"
      ]
    },
    {
      "cell_type": "markdown",
      "metadata": {
        "id": "UdAVNnNvI8c6"
      },
      "source": [
        "sorted() takes a list or set and returns a new sorted list:\n"
      ]
    },
    {
      "cell_type": "code",
      "execution_count": 14,
      "metadata": {
        "colab": {
          "base_uri": "https://localhost:8080/"
        },
        "id": "9VVnIXslIayD",
        "outputId": "a7ea0367-2150-4c1b-a79a-4a7811fc73ae"
      },
      "outputs": [
        {
          "data": {
            "text/plain": [
              "[1, 2, 3, 4, 5]"
            ]
          },
          "execution_count": 14,
          "metadata": {},
          "output_type": "execute_result"
        }
      ],
      "source": [
        "# QuantConnect Example\n",
        "sorted([5,2,3,4,1])"
      ]
    },
    {
      "cell_type": "code",
      "execution_count": 15,
      "metadata": {},
      "outputs": [],
      "source": [
        "# My Example"
      ]
    },
    {
      "cell_type": "markdown",
      "metadata": {
        "id": "SYJ_c0bgI-0A"
      },
      "source": [
        "We can add a \"key\" parameter to specify a function to be called on each list element prior to making comparisons. For Example:\n",
        "\n"
      ]
    },
    {
      "cell_type": "code",
      "execution_count": 16,
      "metadata": {
        "colab": {
          "base_uri": "https://localhost:8080/"
        },
        "id": "FlCTLPo1JAhx",
        "outputId": "27b64bcc-497e-4564-d5cb-f6f5699cecc9"
      },
      "outputs": [
        {
          "data": {
            "text/plain": [
              "[('MSFT', 69),\n",
              " ('WMT', 75.32),\n",
              " ('AAPL', 144.09),\n",
              " ('FB', 150),\n",
              " ('GOOGL', 911.71)]"
            ]
          },
          "execution_count": 16,
          "metadata": {},
          "output_type": "execute_result"
        }
      ],
      "source": [
        "# QuantConnect Example\n",
        "price_list = [('AAPL', 144.09), ('GOOGL', 911.71), ('MSFT', 69), ('FB', 150), ('WMT', 75.32)]\n",
        "sorted(price_list, key = lambda x: x[1])"
      ]
    },
    {
      "cell_type": "code",
      "execution_count": 17,
      "metadata": {
        "colab": {
          "base_uri": "https://localhost:8080/"
        },
        "id": "MneXfu0IJCCU",
        "outputId": "6e69e840-f9a6-4143-c986-4b7aae8a81b8"
      },
      "outputs": [],
      "source": [
        "# My Example\n"
      ]
    },
    {
      "cell_type": "markdown",
      "metadata": {
        "id": "U903MLIHJbeF"
      },
      "source": [
        "By default the values are sorted by ascending order. We can change it to descending by adding an optional parameter \"reverse'.\n",
        "\n"
      ]
    },
    {
      "cell_type": "code",
      "execution_count": 18,
      "metadata": {
        "colab": {
          "base_uri": "https://localhost:8080/"
        },
        "id": "XhiT5icwJcfu",
        "outputId": "89c8c53c-f615-4d6c-8cd0-de7ed5a3d45a"
      },
      "outputs": [
        {
          "data": {
            "text/plain": [
              "[('GOOGL', 911.71),\n",
              " ('FB', 150),\n",
              " ('AAPL', 144.09),\n",
              " ('WMT', 75.32),\n",
              " ('MSFT', 69)]"
            ]
          },
          "execution_count": 18,
          "metadata": {},
          "output_type": "execute_result"
        }
      ],
      "source": [
        "# QuantConnect Example\n",
        "price_list = [('AAPL', 144.09), ('GOOGL', 911.71), ('MSFT', 69), ('FB', 150), ('WMT', 75.32)]\n",
        "sorted(price_list, key = lambda x: x[1], reverse = True)"
      ]
    },
    {
      "cell_type": "code",
      "execution_count": 19,
      "metadata": {
        "colab": {
          "base_uri": "https://localhost:8080/"
        },
        "id": "MuOePXwNJgVZ",
        "outputId": "c4e4f6b0-3ca3-4d0b-eab4-352a7146924e"
      },
      "outputs": [],
      "source": [
        "# My Example\n"
      ]
    },
    {
      "cell_type": "markdown",
      "metadata": {
        "id": "9UXSAbSWJmN6"
      },
      "source": [
        "Lists also have a function list.sort(). This function takes the same \"key\" and \"reverse\" arguments as sorted(), but it doesn't return a new list.\n",
        "\n"
      ]
    },
    {
      "cell_type": "code",
      "execution_count": 20,
      "metadata": {
        "colab": {
          "base_uri": "https://localhost:8080/"
        },
        "id": "8ZhaO1c1Jmzx",
        "outputId": "fb98e1b1-13d4-43c9-da06-b763c767f828"
      },
      "outputs": [
        {
          "name": "stdout",
          "output_type": "stream",
          "text": [
            "[('MSFT', 69), ('WMT', 75.32), ('AAPL', 144.09), ('FB', 150), ('GOOGL', 911.71)]\n"
          ]
        }
      ],
      "source": [
        "# QuantConnect Example\n",
        "price_list = [('AAPL', 144.09), ('GOOGL', 911.71), ('MSFT', 69), ('FB', 150), ('WMT', 75.32)]\n",
        "price_list.sort(key = lambda x: x[1])\n",
        "print(price_list)"
      ]
    },
    {
      "cell_type": "code",
      "execution_count": 21,
      "metadata": {
        "colab": {
          "base_uri": "https://localhost:8080/"
        },
        "id": "FZMUZtKaJrrC",
        "outputId": "8a146f80-2764-4e8e-d748-2d809b6936ed"
      },
      "outputs": [],
      "source": [
        "# My Example\n"
      ]
    },
    {
      "cell_type": "markdown",
      "metadata": {},
      "source": [
        "<br>"
      ]
    },
    {
      "cell_type": "markdown",
      "metadata": {
        "id": "2RfOhl1_KE41"
      },
      "source": [
        "### **Object - Oriented Programming**\n",
        "Python is an object-oriented programming language. It's important to understand the concept of \"objects\" because almost every kind of data from QuantConnect API is an object.\n",
        "\n",
        "<br>\n",
        "\n",
        "**Class**\n",
        "\n",
        "A class is a type of data, just like a string, float, or list. When we create an object of that data type, we call it an **instance** of a class.\n",
        "\n",
        "In Python, everything is an object - everything is an instance of some class. The data stored inside an object are called **attributes**, and the functions which are associated with the object are called **methods**.\n",
        "\n",
        "For Example, as mentioned above, a list is an object of the \"list\" class, and it has a method list.sort().\n",
        "\n",
        "We can create our own objects by defining a class. We would do this when it's helpful to group certain functions together. For Example, we define a class named \"Stock\" here:"
      ]
    },
    {
      "cell_type": "code",
      "execution_count": 22,
      "metadata": {
        "id": "EWdyyMKHKKeQ"
      },
      "outputs": [],
      "source": [
        "# QuantConnect Example\n",
        "class Stock:\n",
        "    def __init__(self, ticker, open, close, volume):\n",
        "        self.ticker = ticker\n",
        "        self.open = open\n",
        "        self.close = close\n",
        "        self.volume = volume\n",
        "        self.rate_return = float(close)/open - 1\n",
        "\n",
        "    def update(self, open, close):\n",
        "        self.open = open\n",
        "        self.close = close\n",
        "        self.rate_return = float(self.close)/self.open - 1\n",
        "\n",
        "    def print_return(self):\n",
        "        print(self.rate_return)"
      ]
    },
    {
      "cell_type": "code",
      "execution_count": 23,
      "metadata": {},
      "outputs": [],
      "source": [
        "# My Example"
      ]
    },
    {
      "cell_type": "markdown",
      "metadata": {
        "id": "oyHGMSLXKPR8"
      },
      "source": [
        "The \"Stock\" class has attributes \"ticker\", \"open\", \"close\", \"volume\" and \"rate_return\". Inside the class body, the first method is called __init__, which is a special method. When we create a new instance of the class, the __init__ method is immediately executed with all the parameters that we pass to the \"Stock\" object. The purpose of this method is to set up a new \"Stock\" object using data we have provided.\n",
        "\n",
        "Here we create two Stock objects named \"apple\" and \"google\"."
      ]
    },
    {
      "cell_type": "code",
      "execution_count": 24,
      "metadata": {
        "id": "lnuCR8TyKMHP"
      },
      "outputs": [],
      "source": [
        "# QuantConnect Example\n",
        "apple  = Stock('AAPL', 143.69, 144.09, 20109375)\n",
        "google = Stock('GOOGL', 898.7, 911.7, 1561616)"
      ]
    },
    {
      "cell_type": "code",
      "execution_count": 25,
      "metadata": {},
      "outputs": [],
      "source": [
        "# My Example"
      ]
    },
    {
      "cell_type": "markdown",
      "metadata": {
        "id": "bptpq_DuKRtM"
      },
      "source": [
        "Stock objects also have two other methods: update() and print_return(). We can access the attribues of a Stock object and call its methods:\n",
        "\n"
      ]
    },
    {
      "cell_type": "code",
      "execution_count": 26,
      "metadata": {
        "colab": {
          "base_uri": "https://localhost:8080/"
        },
        "id": "LQhHxBXkKTEs",
        "outputId": "921d12b7-5f65-44ba-edbf-1dbfc53923e1"
      },
      "outputs": [
        {
          "name": "stdout",
          "output_type": "stream",
          "text": [
            "0.014465338822744034\n",
            "0.0006573181419806673\n"
          ]
        }
      ],
      "source": [
        "# QuantConnect Example\n",
        "apple.ticker\n",
        "\n",
        "google.print_return()\n",
        "\n",
        "google.update(912.8, 913.4)\n",
        "google.print_return()"
      ]
    },
    {
      "cell_type": "code",
      "execution_count": 27,
      "metadata": {},
      "outputs": [],
      "source": [
        "# My Example"
      ]
    },
    {
      "cell_type": "markdown",
      "metadata": {
        "id": "B7gbMl-aKZYf"
      },
      "source": [
        "By calling the update() function, we updated the open and close prices of a stock. Please note that when we use the attributes or call the methods **inside a class**, we need to specify them as self.attribute or self.method(), otherwise Python will deem them as global variables and thus raise an error.\n",
        "\n",
        "We can add an attribute to an object anywhere:"
      ]
    },
    {
      "cell_type": "code",
      "execution_count": 28,
      "metadata": {
        "colab": {
          "base_uri": "https://localhost:8080/",
          "height": 35
        },
        "id": "LL-4JqCfKZ_o",
        "outputId": "c418470a-285c-4c7c-8d6a-507b6cc1c72d"
      },
      "outputs": [
        {
          "data": {
            "text/plain": [
              "'Tim Cook'"
            ]
          },
          "execution_count": 28,
          "metadata": {},
          "output_type": "execute_result"
        }
      ],
      "source": [
        "# QuantConnect Example\n",
        "apple.ceo = 'Tim Cook'\n",
        "apple.ceo"
      ]
    },
    {
      "cell_type": "code",
      "execution_count": 29,
      "metadata": {},
      "outputs": [],
      "source": [
        "# My Example"
      ]
    },
    {
      "cell_type": "markdown",
      "metadata": {
        "id": "E44LwHONKn3O"
      },
      "source": [
        "We can check what names (i.e. attributes and methods) are defined on an object using the dir() function:\n",
        "\n"
      ]
    },
    {
      "cell_type": "code",
      "execution_count": 30,
      "metadata": {
        "colab": {
          "base_uri": "https://localhost:8080/"
        },
        "id": "tMf0rHH3KoNO",
        "outputId": "e454a389-7839-4127-b226-3f56f9a51f9e"
      },
      "outputs": [
        {
          "data": {
            "text/plain": [
              "['__class__',\n",
              " '__delattr__',\n",
              " '__dict__',\n",
              " '__dir__',\n",
              " '__doc__',\n",
              " '__eq__',\n",
              " '__format__',\n",
              " '__ge__',\n",
              " '__getattribute__',\n",
              " '__gt__',\n",
              " '__hash__',\n",
              " '__init__',\n",
              " '__init_subclass__',\n",
              " '__le__',\n",
              " '__lt__',\n",
              " '__module__',\n",
              " '__ne__',\n",
              " '__new__',\n",
              " '__reduce__',\n",
              " '__reduce_ex__',\n",
              " '__repr__',\n",
              " '__setattr__',\n",
              " '__sizeof__',\n",
              " '__str__',\n",
              " '__subclasshook__',\n",
              " '__weakref__',\n",
              " 'ceo',\n",
              " 'close',\n",
              " 'open',\n",
              " 'print_return',\n",
              " 'rate_return',\n",
              " 'ticker',\n",
              " 'update',\n",
              " 'volume']"
            ]
          },
          "execution_count": 30,
          "metadata": {},
          "output_type": "execute_result"
        }
      ],
      "source": [
        "# QuantConnect Example\n",
        "dir(apple)"
      ]
    },
    {
      "cell_type": "code",
      "execution_count": 31,
      "metadata": {},
      "outputs": [],
      "source": [
        "# My Example"
      ]
    },
    {
      "cell_type": "markdown",
      "metadata": {},
      "source": [
        "<br>"
      ]
    },
    {
      "cell_type": "markdown",
      "metadata": {
        "id": "kRY4oaSPKqwi"
      },
      "source": [
        "### **Inheritance**\n",
        "\n",
        "Inheritance is a way of arranging classes in a hierarchy from the most general to the most specific. A \"child\" class is a more specific type of a \"parent\" class because a child class will inherit all the attribues and methods of its parent. For Example, we define a class named \"Child\" which inherits \"Stock\":"
      ]
    },
    {
      "cell_type": "code",
      "execution_count": 32,
      "metadata": {
        "id": "oFul43Q3KwFo"
      },
      "outputs": [],
      "source": [
        "# QuantConnect Example\n",
        "class Child(Stock):\n",
        "    def __init__(self, name):\n",
        "        self.name = name"
      ]
    },
    {
      "cell_type": "code",
      "execution_count": 33,
      "metadata": {},
      "outputs": [],
      "source": [
        "# My Example"
      ]
    },
    {
      "cell_type": "markdown",
      "metadata": {
        "id": "Wa2N4F7JKxBQ"
      },
      "source": [
        "Then we create an object:\n",
        "\n"
      ]
    },
    {
      "cell_type": "code",
      "execution_count": 34,
      "metadata": {
        "colab": {
          "base_uri": "https://localhost:8080/"
        },
        "id": "S_J_B_owKwX2",
        "outputId": "c7eeea18-8a42-4942-8ce3-7d94e4cfffc5"
      },
      "outputs": [
        {
          "name": "stdout",
          "output_type": "stream",
          "text": [
            "AA\n",
            "100\n",
            "102\n",
            "0.020000000000000018\n",
            "None\n"
          ]
        }
      ],
      "source": [
        "# QuantConnect Example\n",
        "aa = Child('AA')\n",
        "print(aa.name)\n",
        "\n",
        "aa.update(100, 102)\n",
        "print(aa.open)\n",
        "\n",
        "print(aa.close)\n",
        "\n",
        "print(aa.print_return())\n"
      ]
    },
    {
      "cell_type": "code",
      "execution_count": 35,
      "metadata": {},
      "outputs": [],
      "source": [
        "# My Example"
      ]
    },
    {
      "cell_type": "markdown",
      "metadata": {
        "id": "OT3iADZSK-oX"
      },
      "source": [
        "As seen above, the new class Child has inherited the methods from Stock.\n",
        "\n",
        "<br>\n"
      ]
    },
    {
      "cell_type": "markdown",
      "metadata": {},
      "source": [
        "### **Summary**\n",
        "In this chapter we have introduced functions and classes. When we write a QuantConnect algorithm, we would define our algorithm as a class (QCAlgorithm). This means our algorithm inherited the QC API methods from QCAlgorithm class.\n",
        "\n",
        "In the next chapter, we will introduce NumPy and Pandas, which enable us to conduct scientific calculations in Python."
      ]
    }
  ],
  "metadata": {
    "colab": {
      "authorship_tag": "ABX9TyNXbAvEFu5KvZY15NiUS8HH",
      "collapsed_sections": [
        "nrraZc-DBLlX",
        "WD2-KGPaBU0W"
      ],
      "include_colab_link": true,
      "name": "Jumorap_QuanconnectTutortials.ipynb",
      "provenance": []
    },
    "interpreter": {
      "hash": "2be5faf79681da6f2a61fdfdd5405d65d042280f7fba6178067603e3a2925119"
    },
    "kernelspec": {
      "display_name": "Python 3.10.0 64-bit",
      "name": "python3"
    },
    "language_info": {
      "codemirror_mode": {
        "name": "ipython",
        "version": 3
      },
      "file_extension": ".py",
      "mimetype": "text/x-python",
      "name": "python",
      "nbconvert_exporter": "python",
      "pygments_lexer": "ipython3",
      "version": "3.10.0"
    }
  },
  "nbformat": 4,
  "nbformat_minor": 0
}
