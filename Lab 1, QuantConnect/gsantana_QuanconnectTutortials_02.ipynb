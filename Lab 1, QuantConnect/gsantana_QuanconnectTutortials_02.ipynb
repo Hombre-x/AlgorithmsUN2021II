{
  "cells": [
    {
      "cell_type": "markdown",
      "metadata": {
        "id": "WD2-KGPaBU0W"
      },
      "source": [
        "## **2. Logical Operations and Loops**\n",
        "\n",
        "### **Logical Operations**\n",
        "\n",
        "\n",
        "Like most programming languages, Python has comparison operators:"
      ]
    },
    {
      "cell_type": "code",
      "execution_count": 3,
      "metadata": {
        "colab": {
          "base_uri": "https://localhost:8080/"
        },
        "id": "ApZyLL2WDatu",
        "outputId": "59a98137-a393-45c6-8d92-bd4956f98537"
      },
      "outputs": [
        {
          "name": "stdout",
          "output_type": "stream",
          "text": [
            "False\n",
            "True\n",
            "True\n",
            "True\n",
            "False\n"
          ]
        }
      ],
      "source": [
        "# QuantConnect Example\n",
        "print(1 == 0)    # 1 equals 0\n",
        "print(1 == 1)    # 1 equals 1\n",
        "print(1 != 0)    # 1 is not equal to 0\n",
        "print(5 >= 5)    # 5 is greater than or equal to 5\n",
        "print(5 >= 6)    # 5 is greater than or equal to 6"
      ]
    },
    {
      "cell_type": "code",
      "execution_count": 31,
      "metadata": {
        "colab": {
          "base_uri": "https://localhost:8080/"
        },
        "id": "vc0Fuh1mDwPk",
        "outputId": "a22e994d-f28d-488c-99a3-04bfe5c17994"
      },
      "outputs": [
        {
          "name": "stdout",
          "output_type": "stream",
          "text": [
            "True\n",
            "False\n",
            "True\n",
            "True\n"
          ]
        }
      ],
      "source": [
        "# My Example\n",
        "iLoveDoingThisLab: bool = False\n",
        "\n",
        "print(not iLoveDoingThisLab)\n",
        "print(iLoveDoingThisLab == True)\n",
        "print(69 > 1)\n",
        "print(len(\"I love\") != len(\"Functional Programing\"))\n"
      ]
    },
    {
      "cell_type": "markdown",
      "metadata": {
        "id": "UyKBbNCODllY"
      },
      "source": [
        "Each statement above has a boolean value, which must be either True or False, but not both.\n",
        "\n",
        "We can combine simple statements P and Q to form complex statements using logical operators:\n",
        "\n",
        "- The statement \"P and Q\" is true if both P and Q are true, otherwise it is false.\n",
        "- The statement \"P or Q\" is false if both P and Q are false, otherwise it is true.\n",
        "- The statement \"not P\" is true if P is false, and vice versa."
      ]
    },
    {
      "cell_type": "code",
      "execution_count": 5,
      "metadata": {
        "colab": {
          "base_uri": "https://localhost:8080/"
        },
        "id": "L7S2m00OELkn",
        "outputId": "c495af4e-563f-43dd-9ac8-5d20eef61879"
      },
      "outputs": [
        {
          "name": "stdout",
          "output_type": "stream",
          "text": [
            "True\n",
            "False\n",
            "True\n",
            "False\n"
          ]
        }
      ],
      "source": [
        "# QuantConnect Example\n",
        "print(2 > 1 and 3 > 2)\n",
        "print(2 > 1 and 3 < 2)\n",
        "print(2 > 1 or  3 < 2)\n",
        "print(2 < 1 and 3 < 2)"
      ]
    },
    {
      "cell_type": "code",
      "execution_count": 33,
      "metadata": {
        "colab": {
          "base_uri": "https://localhost:8080/"
        },
        "id": "DosNujcCE3Jm",
        "outputId": "281bca75-cca8-4d32-b8c2-46e8353f951c"
      },
      "outputs": [
        {
          "name": "stdout",
          "output_type": "stream",
          "text": [
            "False\n",
            "True\n"
          ]
        }
      ],
      "source": [
        "# My Example\n",
        "thisIsFalse: bool = 2 != 2 or 69 >= 96\n",
        "thisIsTrue: bool  = not iLoveDoingThisLab and 42 > 0\n",
        "\n",
        "print(thisIsFalse)\n",
        "print(thisIsTrue)"
      ]
    },
    {
      "cell_type": "markdown",
      "metadata": {
        "id": "l17LNvjuGZFn"
      },
      "source": [
        "When dealing with a very complex logical statement that involves in several statements, we can use brackets to separate and combine them.\n",
        "\n"
      ]
    },
    {
      "cell_type": "code",
      "execution_count": 7,
      "metadata": {
        "colab": {
          "base_uri": "https://localhost:8080/"
        },
        "id": "8_Vdfm2rGZ_F",
        "outputId": "35425582-8139-4ff7-c936-850d616c8e1e"
      },
      "outputs": [
        {
          "name": "stdout",
          "output_type": "stream",
          "text": [
            "False\n",
            "True\n"
          ]
        }
      ],
      "source": [
        "# QuantConnect Example\n",
        "print((3 > 2 or 1 < 3) and (1!=3 and 4>3) and not ( 3 < 2 or 1 < 3 and (1!=3 and 4>3)))\n",
        "print(3 > 2 or 1 < 3 and (1!=3 and 4>3) and not ( 3 < 2 or 1 < 3 and (1!=3 and 4>3)))"
      ]
    },
    {
      "cell_type": "code",
      "execution_count": 4,
      "metadata": {},
      "outputs": [
        {
          "name": "stdout",
          "output_type": "stream",
          "text": [
            "False\n"
          ]
        }
      ],
      "source": [
        "# My Example\n",
        "\n",
        "longBoi: bool = (2 + 2 == 4 - 1 == 3) and len(\"quick maths\") >= len(\"three\") or \"big shaq\" == \"went out of date\"\n",
        "print(longBoi)"
      ]
    },
    {
      "cell_type": "markdown",
      "metadata": {
        "id": "p_dx9fwUGjv-"
      },
      "source": [
        "Comparing the above two statements, we can see that it's wise to use brackets when we make a complex logical statement.\n",
        "\n",
        "<br>"
      ]
    },
    {
      "cell_type": "markdown",
      "metadata": {},
      "source": [
        "### **If Statement**\n",
        "An if statement executes a segment of code only if its condition is true. A standard if statement consists of 3 segments: if, elif and else."
      ]
    },
    {
      "cell_type": "code",
      "execution_count": null,
      "metadata": {},
      "outputs": [],
      "source": [
        "\"\"\"\n",
        "if condition1:\n",
        "    # if condition1 is true, execute the code here\n",
        "    # and ignore the rest of this if statement\n",
        "\n",
        "elif condition2:\n",
        "    # if condition1 is false, and condition2 is true, execute the code here\n",
        "    # and ignore the rest of this if statement\n",
        "\n",
        "else:\n",
        "    # if none of the above conditions is True, execute the code here\n",
        "\"\"\""
      ]
    },
    {
      "cell_type": "markdown",
      "metadata": {},
      "source": [
        "An if statement doesn't necessarily has elif and else part. If it's not specified, the indented block of code will be executed when the condition is true, otherwise the whole if statement will be skipped."
      ]
    },
    {
      "cell_type": "code",
      "execution_count": 8,
      "metadata": {
        "colab": {
          "base_uri": "https://localhost:8080/"
        },
        "id": "PtxIurflGwD0",
        "outputId": "4c6d6060-f1e2-4025-b49d-e0eb004e4490"
      },
      "outputs": [
        {
          "name": "stdout",
          "output_type": "stream",
          "text": [
            "i == 0 is True\n"
          ]
        }
      ],
      "source": [
        "# QuantConnect Example\n",
        "i = 0\n",
        "if i == 0: print('i == 0 is True')"
      ]
    },
    {
      "cell_type": "code",
      "execution_count": 36,
      "metadata": {
        "colab": {
          "base_uri": "https://localhost:8080/"
        },
        "id": "jFUS7WJ9G35w",
        "outputId": "a8da70f5-5f8f-4e56-9563-42d0c2387829"
      },
      "outputs": [
        {
          "name": "stdout",
          "output_type": "stream",
          "text": [
            "Yeah, dont do that paradigm anymore.\n"
          ]
        }
      ],
      "source": [
        "# My Example\n",
        "OOP_Sucks: bool = True\n",
        "\n",
        "if OOP_Sucks == True: \n",
        "  print(\"Yeah, dont do that paradigm anymore.\")"
      ]
    },
    {
      "cell_type": "markdown",
      "metadata": {
        "id": "nRvFMhPoHm7U"
      },
      "source": [
        "As we mentioned above, we can write some complex statements here:\n",
        "\n"
      ]
    },
    {
      "cell_type": "code",
      "execution_count": 10,
      "metadata": {
        "colab": {
          "base_uri": "https://localhost:8080/"
        },
        "id": "6U8WG0kVHnRL",
        "outputId": "bf922d05-7839-4abc-ee3f-79b1370c9369"
      },
      "outputs": [
        {
          "name": "stdout",
          "output_type": "stream",
          "text": [
            "q is false\n"
          ]
        }
      ],
      "source": [
        "# QuantConnect Example\n",
        "p = 1 > 0\n",
        "q = 2 > 3\n",
        "if p and q:\n",
        "    print('p and q is true')\n",
        "elif p and not q:\n",
        "    print('q is false')\n",
        "elif q and not p:\n",
        "    print('p is false')\n",
        "else:\n",
        "    print('None of p and q is true')"
      ]
    },
    {
      "cell_type": "code",
      "execution_count": 37,
      "metadata": {
        "colab": {
          "base_uri": "https://localhost:8080/"
        },
        "id": "4T6hDtXKHyFA",
        "outputId": "a169b259-fd3e-4037-bca4-c4a4b1bc1531"
      },
      "outputs": [
        {
          "name": "stdout",
          "output_type": "stream",
          "text": [
            "I'm not that lucky...\n"
          ]
        }
      ],
      "source": [
        "# My Example\n",
        "aStr: str = \"Why this has to be that complex\"\n",
        "\n",
        "if aStr == \"This is a long exercise\":\n",
        "  print(\"Pretty much true.\")\n",
        "\n",
        "elif len(aStr) == 10:\n",
        "  print(\"I've just nailed it!\")\n",
        "\n",
        "else:\n",
        "  print(\"I'm not that lucky...\")"
      ]
    },
    {
      "cell_type": "markdown",
      "metadata": {},
      "source": [
        "<br>"
      ]
    },
    {
      "cell_type": "markdown",
      "metadata": {
        "id": "OXLALJGHH7Dr"
      },
      "source": [
        "### **Loop Structure**\n",
        "\n",
        "Loops are an essential part of programming. The \"for\" and \"while\" loops run a block of code repeatedly.\n",
        "\n",
        "<br>\n",
        "\n",
        "**While Loop**\n",
        "\n",
        "A \"while\" loop will run repeatedly until a certain condition has been met."
      ]
    },
    {
      "cell_type": "code",
      "execution_count": 12,
      "metadata": {
        "colab": {
          "base_uri": "https://localhost:8080/"
        },
        "id": "XWcnhPKpIJin",
        "outputId": "555ce2aa-72ba-4eff-db62-6ae574c14683"
      },
      "outputs": [
        {
          "name": "stdout",
          "output_type": "stream",
          "text": [
            "0\n",
            "1\n",
            "2\n",
            "3\n",
            "4\n"
          ]
        }
      ],
      "source": [
        "# QuantConnect Example\n",
        "i = 0\n",
        "while i < 5:\n",
        "    print(i)\n",
        "    i += 1"
      ]
    },
    {
      "cell_type": "code",
      "execution_count": 41,
      "metadata": {
        "colab": {
          "base_uri": "https://localhost:8080/"
        },
        "id": "2kwUaGAnIQ0q",
        "outputId": "0b20fae7-5589-408e-9a6d-e0b74b2db289"
      },
      "outputs": [
        {
          "name": "stdout",
          "output_type": "stream",
          "text": [
            "Still hating it...\n",
            "Still hating it...\n",
            "Still hating it...\n",
            "Still hating it...\n",
            "Still hating it...\n",
            "Recursion is better!\n"
          ]
        }
      ],
      "source": [
        "# My Example\n",
        "iHateWhileLoops: bool = True\n",
        "index: int = 0\n",
        "\n",
        "while(iHateWhileLoops):\n",
        "  \n",
        "  if index != 5:\n",
        "    print(\"Still hating it...\")\n",
        "    index += 1\n",
        "\n",
        "  else:\n",
        "\n",
        "    print(\"Recursion is better!\")\n",
        "    iHateWhileLoops = False"
      ]
    },
    {
      "cell_type": "markdown",
      "metadata": {
        "id": "mL-c-0-9Ijn1"
      },
      "source": [
        "When making a while loop, we need to ensure that something changes from iteration to iteration so that the while loop will terminate, otherwise, it will run forever. Here we used i += 1 (short for i = i + 1) to make i larger after each iteration. This is the most commonly used method to control a while loop.\n",
        "\n",
        "<br>"
      ]
    },
    {
      "cell_type": "markdown",
      "metadata": {},
      "source": [
        "**For Loop**\n",
        "\n",
        "A \"for\" loop will iterate over a sequence of value and terminate when the sequence has ended."
      ]
    },
    {
      "cell_type": "code",
      "execution_count": 14,
      "metadata": {
        "colab": {
          "base_uri": "https://localhost:8080/"
        },
        "id": "tGpxxXakI7QC",
        "outputId": "1115c7cf-6075-4160-d764-97a7d2e6ae37"
      },
      "outputs": [
        {
          "name": "stdout",
          "output_type": "stream",
          "text": [
            "1\n",
            "2\n",
            "3\n",
            "4\n",
            "5\n"
          ]
        }
      ],
      "source": [
        "# QuantConnect Example\n",
        "for x in [1,2,3,4,5]: print(x)"
      ]
    },
    {
      "cell_type": "code",
      "execution_count": 42,
      "metadata": {
        "colab": {
          "base_uri": "https://localhost:8080/"
        },
        "id": "nGpoyrjXJHOn",
        "outputId": "91d794b2-9aab-49dc-d6ac-43a581f940ae"
      },
      "outputs": [
        {
          "name": "stdout",
          "output_type": "stream",
          "text": [
            "This needs a for comprehension"
          ]
        }
      ],
      "source": [
        "# My Example\n",
        "for letter in \"This needs a for comprehension!\": print(letter, end=\"\")"
      ]
    },
    {
      "cell_type": "markdown",
      "metadata": {
        "id": "A-Fw8-pHJpHX"
      },
      "source": [
        "We can also add if statements in a for loop. Here is a real Example from our pairs trading algorithm:\n",
        "\n"
      ]
    },
    {
      "cell_type": "code",
      "execution_count": 16,
      "metadata": {
        "colab": {
          "base_uri": "https://localhost:8080/"
        },
        "id": "PBRY8R4nJp76",
        "outputId": "e5a81165-ad02-44fb-9f4a-e9992b1e4ca6"
      },
      "outputs": [
        {
          "name": "stdout",
          "output_type": "stream",
          "text": [
            "['GOOG', 'FB', 'F', 'V', 'G', 'GE']\n"
          ]
        }
      ],
      "source": [
        "# QuantConnect Example\n",
        "stocks = ['AAPL','GOOG','IBM','FB','F','V', 'G', 'GE']\n",
        "selected = ['AAPL','IBM']\n",
        "new_list = []\n",
        "for stock in stocks:\n",
        "    if stock not in selected:\n",
        "        new_list.append(stock)\n",
        "print(new_list)"
      ]
    },
    {
      "cell_type": "code",
      "execution_count": 45,
      "metadata": {
        "colab": {
          "base_uri": "https://localhost:8080/"
        },
        "id": "EOABw6iTJ9f5",
        "outputId": "50ac1d54-7200-4bab-e0d6-af8a8ca108df"
      },
      "outputs": [
        {
          "name": "stdout",
          "output_type": "stream",
          "text": [
            "[[[1, 2, 3]], [[1, 2, 3]], [[1, 2, 3]]]\n"
          ]
        }
      ],
      "source": [
        "# My Example\n",
        "aList: list = [[], [], []]\n",
        "\n",
        "for anotherList in aList:\n",
        "\n",
        "  anotherList.append([1,2,3])\n",
        "\n",
        "print(aList) # Just another double x matrix"
      ]
    },
    {
      "cell_type": "markdown",
      "metadata": {
        "id": "xWLDeobOJxpo"
      },
      "source": [
        "Here we iterated all the elements in the list 'stocks'. Later in this chapter, we will introduce a smarter way to do this, which is just a one-line code.\n",
        "\n",
        "<br>"
      ]
    },
    {
      "cell_type": "markdown",
      "metadata": {},
      "source": [
        "**Break and continue**\n",
        "\n",
        "These are two commonly used commands in a for loop. If \"break\" is triggered while a loop is executing, the loop will terminate immediately:"
      ]
    },
    {
      "cell_type": "code",
      "execution_count": 18,
      "metadata": {
        "colab": {
          "base_uri": "https://localhost:8080/"
        },
        "id": "a4v7c3euJxba",
        "outputId": "bb3f1e55-dd24-4695-e19c-c0c086c89d6d"
      },
      "outputs": [
        {
          "name": "stdout",
          "output_type": "stream",
          "text": [
            "AAPL\n",
            "GOOG\n",
            "IBM\n",
            "FB\n"
          ]
        }
      ],
      "source": [
        "# QuantConnect Example\n",
        "stocks = ['AAPL','GOOG','IBM','FB','F','V', 'G', 'GE']\n",
        "for stock in stocks:\n",
        "    print(stock)\n",
        "    if stock == 'FB': break"
      ]
    },
    {
      "cell_type": "code",
      "execution_count": 49,
      "metadata": {
        "colab": {
          "base_uri": "https://localhost:8080/"
        },
        "id": "YHQv_mdWJv-X",
        "outputId": "486f06bb-dcf7-48a2-e4fa-ae2ea8131135"
      },
      "outputs": [
        {
          "name": "stdout",
          "output_type": "stream",
          "text": [
            "This is a regular number: 1\n",
            "This is a regular number: 2\n",
            "This is a regular number: 3\n",
            "I found the meaning of life!\n"
          ]
        }
      ],
      "source": [
        "# My Example\n",
        "\n",
        "naturals: list = [1,2,3,42,5]\n",
        "\n",
        "for num in naturals:\n",
        "\n",
        "  if num == 42:\n",
        "\n",
        "    print(\"I found the meaning of life!\")\n",
        "    break\n",
        "  \n",
        "  else:\n",
        "\n",
        "    print(f\"This is a regular number: {num}\")\n"
      ]
    },
    {
      "cell_type": "markdown",
      "metadata": {
        "id": "TxVAk5HuBL3H"
      },
      "source": [
        "The \"continue\" command tells the loop to end this iteration and skip to the next iteration:\n",
        "\n"
      ]
    },
    {
      "cell_type": "code",
      "execution_count": 20,
      "metadata": {
        "colab": {
          "base_uri": "https://localhost:8080/"
        },
        "id": "J94ADM4CBK0Q",
        "outputId": "06812e92-1b40-462b-cb94-865d5fddbdd9"
      },
      "outputs": [
        {
          "name": "stdout",
          "output_type": "stream",
          "text": [
            "AAPL\n",
            "GOOG\n",
            "IBM\n",
            "F\n",
            "V\n",
            "G\n",
            "GE\n"
          ]
        }
      ],
      "source": [
        "# QuantConnect Example\n",
        "stocks = ['AAPL','GOOG','IBM','FB','F','V', 'G', 'GE']\n",
        "for stock in stocks:\n",
        "    if stock == 'FB': continue\n",
        "    print(stock)"
      ]
    },
    {
      "cell_type": "code",
      "execution_count": 52,
      "metadata": {
        "colab": {
          "base_uri": "https://localhost:8080/"
        },
        "id": "7Gb1kHb5BSac",
        "outputId": "89f70b7a-7d80-45f3-f65b-d5240e0dd74f"
      },
      "outputs": [
        {
          "name": "stdout",
          "output_type": "stream",
          "text": [
            "This is a regular number: 1\n",
            "Next!\n",
            "\n",
            "This is a regular number: 2\n",
            "Next!\n",
            "\n",
            "This is a regular number: 3\n",
            "Next!\n",
            "\n",
            "The meaning of life doesn't matter.\n",
            "\n",
            "This is a regular number: 5\n",
            "Next!\n",
            "\n"
          ]
        }
      ],
      "source": [
        "# My Example\n",
        "\n",
        "naturals: list = [1,2,3,42,5]\n",
        "\n",
        "for num in naturals:\n",
        "\n",
        "  if num == 42:\n",
        "\n",
        "    print(\"The meaning of life doesn't matter.\\n\")\n",
        "    continue\n",
        "\n",
        "  else:\n",
        "\n",
        "    print(f\"This is a regular number: {num}\")\n",
        "\n",
        "  print(\"Next!\\n\")"
      ]
    },
    {
      "cell_type": "markdown",
      "metadata": {},
      "source": [
        "<br>"
      ]
    },
    {
      "cell_type": "markdown",
      "metadata": {
        "id": "oalz1N_kBn9R"
      },
      "source": [
        "### **List Comprehension**\n",
        "\n",
        "List comprehension is a Pythonic way to create lists. Common applications are to make new lists where each element is the result of some operations applied to each member of another sequence. For Example, if we want to create a list of squares using for loop:"
      ]
    },
    {
      "cell_type": "code",
      "execution_count": 22,
      "metadata": {
        "colab": {
          "base_uri": "https://localhost:8080/"
        },
        "id": "c1veoch8BjFx",
        "outputId": "0112a429-07ea-47fb-a6f7-e5dbcfe0415d"
      },
      "outputs": [
        {
          "name": "stdout",
          "output_type": "stream",
          "text": [
            "[1, 4, 9, 16, 25]\n"
          ]
        }
      ],
      "source": [
        "# QuantConnect Example\n",
        "squares = []\n",
        "for i in [1,2,3,4,5]:\n",
        "    squares.append(i**2)\n",
        "print(squares)"
      ]
    },
    {
      "cell_type": "code",
      "execution_count": 53,
      "metadata": {
        "colab": {
          "base_uri": "https://localhost:8080/"
        },
        "id": "lg2inoIeB1UX",
        "outputId": "df861768-1999-4c85-b70f-c11bbc7a3179"
      },
      "outputs": [
        {
          "name": "stdout",
          "output_type": "stream",
          "text": [
            "[[[1, 2, 3]], [[1, 2, 3]], [[1, 2, 3]]]\n"
          ]
        }
      ],
      "source": [
        "# My Example\n",
        "aList: list = [[], [], []]\n",
        "\n",
        "for anotherList in aList:\n",
        "\n",
        "  anotherList.append([1,2,3])\n",
        "\n",
        "print(aList) # Just doing the same matrix example because I'm lazy."
      ]
    },
    {
      "cell_type": "markdown",
      "metadata": {
        "id": "HsMAqWHqB0-J"
      },
      "source": [
        "Using list comprehension:\n",
        "\n"
      ]
    },
    {
      "cell_type": "code",
      "execution_count": 24,
      "metadata": {
        "colab": {
          "base_uri": "https://localhost:8080/"
        },
        "id": "iMmBZr6aCT2a",
        "outputId": "854cd143-3e81-4a16-f256-0bc4afa517d4"
      },
      "outputs": [
        {
          "name": "stdout",
          "output_type": "stream",
          "text": [
            "[1, 4, 9, 16, 25]\n"
          ]
        }
      ],
      "source": [
        "# QuantConnect Example\n",
        "foo = [1,2,3,4,5]\n",
        "squares = [x**2 for x in foo]\n",
        "print(squares)"
      ]
    },
    {
      "cell_type": "code",
      "execution_count": 54,
      "metadata": {
        "colab": {
          "base_uri": "https://localhost:8080/"
        },
        "id": "GHl2D4qOCZlY",
        "outputId": "db5ab473-a4d5-407d-ed93-be80a0d1740b"
      },
      "outputs": [
        {
          "name": "stdout",
          "output_type": "stream",
          "text": [
            "[[1, 2, 3], [1, 2, 3], [1, 2, 3]]\n"
          ]
        }
      ],
      "source": [
        "# My Example\n",
        "aList: list = [[], [], []]\n",
        "\n",
        "newMatrix = [[1, 2, 3] for ls in aList]\n",
        "\n",
        "print(newMatrix)"
      ]
    },
    {
      "cell_type": "markdown",
      "metadata": {
        "id": "MMz2Gu1xChc9"
      },
      "source": [
        "Recall the Example above where we used a for loop to select stocks. Here we use list comprehension:"
      ]
    },
    {
      "cell_type": "code",
      "execution_count": 26,
      "metadata": {
        "colab": {
          "base_uri": "https://localhost:8080/"
        },
        "id": "uNbb98BGC8yg",
        "outputId": "48a27630-8ec3-44cf-908a-f2eb9a8add46"
      },
      "outputs": [
        {
          "name": "stdout",
          "output_type": "stream",
          "text": [
            "['GOOG', 'FB', 'F', 'V', 'G', 'GE']\n"
          ]
        }
      ],
      "source": [
        "# QuantConnect Example\n",
        "stocks = ['AAPL','GOOG','IBM','FB','F','V', 'G', 'GE']\n",
        "selected = ['AAPL','IBM']\n",
        "new_list = [x for x in stocks if x not in selected]\n",
        "print(new_list)"
      ]
    },
    {
      "cell_type": "code",
      "execution_count": 61,
      "metadata": {
        "colab": {
          "base_uri": "https://localhost:8080/"
        },
        "id": "OV44ZCBpChzc",
        "outputId": "4ef87886-83da-4f12-e287-12eefa4e8ff4"
      },
      "outputs": [
        {
          "name": "stdout",
          "output_type": "stream",
          "text": [
            "[1, 2, 3, 4, 5, 6, 7]\n"
          ]
        }
      ],
      "source": [
        "# My Example\n",
        "naturals: list = [1,2,3,4,5]\n",
        "maybeNaturals: list = [4.5, \"Wtf\", (2 / 3), 6, 96969.6969, 7]\n",
        "\n",
        "extendenNaturals = [x for x in maybeNaturals if isinstance(x, int)]\n",
        "\n",
        "print(naturals + extendenNaturals)\n"
      ]
    },
    {
      "cell_type": "markdown",
      "metadata": {
        "id": "YVTpKTMTDCN6"
      },
      "source": [
        "A list comprehension consists of square brackets containing an expression followed by a \"for\" clause, and possibly \"for\" or \"if\" clauses. For Example:\n",
        "\n"
      ]
    },
    {
      "cell_type": "code",
      "execution_count": 28,
      "metadata": {
        "colab": {
          "base_uri": "https://localhost:8080/"
        },
        "id": "zQUhH0QwDCuM",
        "outputId": "69670b1b-b980-44c9-de53-5bdcff396608"
      },
      "outputs": [
        {
          "name": "stdout",
          "output_type": "stream",
          "text": [
            "[(1, 3), (1, 4), (2, 3), (2, 1), (2, 4), (3, 1), (3, 4)]\n",
            "['AAPL vs F', 'AAPL vs V', 'AAPL vs G', 'AAPL vs GE', 'GOOG vs F', 'GOOG vs V', 'GOOG vs G', 'GOOG vs GE', 'IBM vs F', 'IBM vs V', 'IBM vs G', 'IBM vs GE', 'FB vs F', 'FB vs V', 'FB vs G', 'FB vs GE']\n"
          ]
        }
      ],
      "source": [
        "# QuantConnect Example\n",
        "print([(x, y) for x in [1,2,3] for y in [3,1,4] if x != y])\n",
        "print([str(x) + ' vs ' + str(y) for x in ['AAPL','GOOG','IBM','FB']\n",
        "                                for y in ['F','V','G','GE'] if x != y])"
      ]
    },
    {
      "cell_type": "code",
      "execution_count": 62,
      "metadata": {
        "colab": {
          "base_uri": "https://localhost:8080/"
        },
        "id": "KXzhZoEBDPyx",
        "outputId": "e99ac008-8a18-40bb-e64d-7c4a0fa8ecf3"
      },
      "outputs": [
        {
          "name": "stdout",
          "output_type": "stream",
          "text": [
            "[[0, 0, 0], [0, 0, 0], [0, 0, 0]]\n"
          ]
        }
      ],
      "source": [
        "# My Example\n",
        "aMatrix = [[0 for x in range(3)] for y in range(3)]\n",
        "\n",
        "print(aMatrix) # Best way to create a 0-matrix!"
      ]
    },
    {
      "cell_type": "markdown",
      "metadata": {
        "id": "44x4qfIqEZFe"
      },
      "source": [
        "List comprehension is an elegant way to organize one or more for loops when creating a list.\n",
        "\n",
        "<br>"
      ]
    },
    {
      "cell_type": "markdown",
      "metadata": {},
      "source": [
        "### **Summary**\n",
        "\n",
        "This chapter has introduced logical operations, loops, and list comprehension. In the next chapter, we will introduce functions and object-oriented programming, which will enable us to make our codes clean and versatile."
      ]
    }
  ],
  "metadata": {
    "colab": {
      "authorship_tag": "ABX9TyNXbAvEFu5KvZY15NiUS8HH",
      "collapsed_sections": [
        "nrraZc-DBLlX",
        "WD2-KGPaBU0W"
      ],
      "include_colab_link": true,
      "name": "Jumorap_QuanconnectTutortials.ipynb",
      "provenance": []
    },
    "interpreter": {
      "hash": "2be5faf79681da6f2a61fdfdd5405d65d042280f7fba6178067603e3a2925119"
    },
    "kernelspec": {
      "display_name": "Python 3.10.0 64-bit",
      "name": "python3"
    },
    "language_info": {
      "codemirror_mode": {
        "name": "ipython",
        "version": 3
      },
      "file_extension": ".py",
      "mimetype": "text/x-python",
      "name": "python",
      "nbconvert_exporter": "python",
      "pygments_lexer": "ipython3",
      "version": "3.10.0"
    }
  },
  "nbformat": 4,
  "nbformat_minor": 0
}
