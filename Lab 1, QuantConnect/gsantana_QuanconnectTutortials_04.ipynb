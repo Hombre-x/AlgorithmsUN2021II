{
  "cells": [
    {
      "cell_type": "markdown",
      "metadata": {
        "id": "m7cEVmk2LzDJ"
      },
      "source": [
        "## **4. NumPy and Basic Pandas**\n",
        "\n",
        "### **NumPy**\n",
        "NumPy is the core library for scientific computing in Python. It provides a high-performance multidimensional array object, and tools for working with these arrays. It also has strong integration with Pandas, which is another powerful tool for manipulating financial data.\n",
        "\n",
        "Python packages like NumPy and Pandas contain classes and methods which we can use by importing the package:"
      ]
    },
    {
      "cell_type": "code",
      "execution_count": 97,
      "metadata": {
        "id": "WKKeUEaiL8Mq"
      },
      "outputs": [],
      "source": [
        "import numpy as np"
      ]
    },
    {
      "cell_type": "markdown",
      "metadata": {
        "id": "_hFUR4CML91h"
      },
      "source": [
        "**Basic NumPy Arrays**\n",
        "\n",
        "A NumPy array is a grid of values, all of the same type, and is indexed by a tuple of nonnegative integers. Here we make an array by passing a list of Apple stock prices:"
      ]
    },
    {
      "cell_type": "code",
      "execution_count": 98,
      "metadata": {
        "colab": {
          "base_uri": "https://localhost:8080/"
        },
        "id": "ODSTrmR8MC0L",
        "outputId": "78222a7d-c5ab-44df-a5dd-e2a7860cdbb4"
      },
      "outputs": [
        {
          "name": "stdout",
          "output_type": "stream",
          "text": [
            "[143.73 145.83 143.68 144.02 143.5  142.62] <class 'numpy.ndarray'>\n"
          ]
        }
      ],
      "source": [
        "# QuantConnect Example\n",
        "price_list = [143.73, 145.83, 143.68, 144.02, 143.5, 142.62]\n",
        "price_array = np.array(price_list)\n",
        "print(price_array, type(price_array))"
      ]
    },
    {
      "cell_type": "code",
      "execution_count": 99,
      "metadata": {
        "colab": {
          "base_uri": "https://localhost:8080/"
        },
        "id": "tYZx86hRMKJI",
        "outputId": "8ca16ca0-6d98-41a6-b702-112f40bd6689"
      },
      "outputs": [
        {
          "name": "stdout",
          "output_type": "stream",
          "text": [
            "[ 1  2  3  4  5  6  7  8  9 10]\n"
          ]
        }
      ],
      "source": [
        "# My Example\n",
        "aList: list = [1,2,3,4,5,6,7,8,9,10]\n",
        "anArray = np.array(aList)\n",
        "\n",
        "print(anArray)"
      ]
    },
    {
      "cell_type": "markdown",
      "metadata": {
        "id": "3oGDYZFGMePT"
      },
      "source": [
        "Notice that the type of array is \"ndarray\" which is a multi-dimensional array. If we pass np.array() a list of lists, it will create a 2-dimensional array.\n",
        "\n"
      ]
    },
    {
      "cell_type": "code",
      "execution_count": 100,
      "metadata": {
        "colab": {
          "base_uri": "https://localhost:8080/"
        },
        "id": "LJ9GVE5iMhbs",
        "outputId": "5b8a7efe-253e-431a-9eb0-18e6d692149c"
      },
      "outputs": [
        {
          "name": "stdout",
          "output_type": "stream",
          "text": [
            "[[1 3]\n",
            " [2 4]] <class 'numpy.ndarray'>\n"
          ]
        }
      ],
      "source": [
        "# QuantConnect Example\n",
        "Ar = np.array([[1,3], [2,4]])\n",
        "print(Ar, type(Ar))"
      ]
    },
    {
      "cell_type": "code",
      "execution_count": 101,
      "metadata": {
        "colab": {
          "base_uri": "https://localhost:8080/"
        },
        "id": "_Iy4XbR7Mi29",
        "outputId": "a62762fd-381a-492f-a542-3ea580927033"
      },
      "outputs": [
        {
          "name": "stdout",
          "output_type": "stream",
          "text": [
            "[[1 2 3]\n",
            " [4 5 6]\n",
            " [7 8 9]]\n"
          ]
        }
      ],
      "source": [
        "# My Example\n",
        "maybeMatrix = [\n",
        "    [1,2,3],[4,5,6],[7,8,9]\n",
        "  ]\n",
        "\n",
        "matrix = np.array(maybeMatrix)\n",
        "print(matrix)"
      ]
    },
    {
      "cell_type": "markdown",
      "metadata": {
        "id": "Rs-y93l2MvsQ"
      },
      "source": [
        "We get the dimensions of an ndarray using the .shape attribute:\n",
        "\n"
      ]
    },
    {
      "cell_type": "code",
      "execution_count": 102,
      "metadata": {
        "colab": {
          "base_uri": "https://localhost:8080/"
        },
        "id": "pPYGb79WMpyI",
        "outputId": "5f19c44f-8a7d-4d3d-cfa2-69625d375e80"
      },
      "outputs": [
        {
          "name": "stdout",
          "output_type": "stream",
          "text": [
            "(2, 2)\n"
          ]
        }
      ],
      "source": [
        "# QuantConnect Example\n",
        "print(Ar.shape)"
      ]
    },
    {
      "cell_type": "code",
      "execution_count": 103,
      "metadata": {},
      "outputs": [
        {
          "name": "stdout",
          "output_type": "stream",
          "text": [
            "(3, 3)\n"
          ]
        }
      ],
      "source": [
        "# My Example\n",
        "print(matrix.shape)"
      ]
    },
    {
      "cell_type": "markdown",
      "metadata": {
        "id": "f-YKFO4oMzwn"
      },
      "source": [
        "If we create an 2-dimensional array (i.e. matrix), each row can be accessed by index:\n",
        "\n"
      ]
    },
    {
      "cell_type": "code",
      "execution_count": 104,
      "metadata": {
        "colab": {
          "base_uri": "https://localhost:8080/"
        },
        "id": "5Viicx2-Mx1m",
        "outputId": "5d170865-38dc-4ca6-e080-70050204a449"
      },
      "outputs": [
        {
          "name": "stdout",
          "output_type": "stream",
          "text": [
            "[1 3]\n",
            "[2 4]\n"
          ]
        }
      ],
      "source": [
        "# QuantConnect Example\n",
        "print(Ar[0])\n",
        "\n",
        "print(Ar[1])"
      ]
    },
    {
      "cell_type": "code",
      "execution_count": 105,
      "metadata": {},
      "outputs": [
        {
          "name": "stdout",
          "output_type": "stream",
          "text": [
            "row 1: [1 2 3]\n",
            "row 2: [4 5 6]\n",
            "row 3: [7 8 9]\n"
          ]
        }
      ],
      "source": [
        "# My Example\n",
        "print(f\"row 1: {matrix[0,:]}\")\n",
        "print(f\"row 2: {matrix[1,:]}\")\n",
        "print(f\"row 3: {matrix[2,:]}\")"
      ]
    },
    {
      "cell_type": "markdown",
      "metadata": {
        "id": "Tbdg_QXuM-2u"
      },
      "source": [
        "If we want to access the matrix by column instead:\n",
        "\n"
      ]
    },
    {
      "cell_type": "code",
      "execution_count": 106,
      "metadata": {
        "colab": {
          "base_uri": "https://localhost:8080/"
        },
        "id": "f2O0GXG4M_WL",
        "outputId": "d3e46b85-9612-4096-9f1a-92267bcaa595"
      },
      "outputs": [
        {
          "name": "stdout",
          "output_type": "stream",
          "text": [
            "First column: [1 2]\n",
            "Second column: [3 4]\n"
          ]
        }
      ],
      "source": [
        "# QuantConnect Example\n",
        "print('First column:', Ar[:, 0])\n",
        "\n",
        "print('Second column:', Ar[:, 1])"
      ]
    },
    {
      "cell_type": "code",
      "execution_count": 107,
      "metadata": {},
      "outputs": [
        {
          "name": "stdout",
          "output_type": "stream",
          "text": [
            "column 1: [1 4 7]\n",
            "column 2: [2 5 8]\n",
            "column 3: [3 6 9]\n"
          ]
        }
      ],
      "source": [
        "# My Example\n",
        "print(f\"column 1: {matrix[:,0]}\")\n",
        "print(f\"column 2: {matrix[:,1]}\")\n",
        "print(f\"column 3: {matrix[:,2]}\")"
      ]
    },
    {
      "cell_type": "markdown",
      "metadata": {},
      "source": [
        "<br>"
      ]
    },
    {
      "cell_type": "markdown",
      "metadata": {
        "id": "ApQWR53aNMBi"
      },
      "source": [
        "**Array Functions**\n",
        "\n",
        "Some functions built in NumPy that allow us to perform calculations on arrays. For Example, we can apply the natural logarithm to each element of an array:"
      ]
    },
    {
      "cell_type": "code",
      "execution_count": 108,
      "metadata": {
        "colab": {
          "base_uri": "https://localhost:8080/"
        },
        "id": "zmuyJ-UTNPXw",
        "outputId": "6c438b7d-bc07-4c69-d7dc-406ee3b57748"
      },
      "outputs": [
        {
          "data": {
            "text/plain": [
              "array([4.96793654, 4.98244156, 4.9675886 , 4.96995218, 4.96633504,\n",
              "       4.96018375])"
            ]
          },
          "execution_count": 108,
          "metadata": {},
          "output_type": "execute_result"
        }
      ],
      "source": [
        "# QuantConnect Example\n",
        "np.log(price_array)"
      ]
    },
    {
      "cell_type": "code",
      "execution_count": 109,
      "metadata": {},
      "outputs": [
        {
          "data": {
            "text/plain": [
              "array([[0.        , 0.69314718, 1.09861229],\n",
              "       [1.38629436, 1.60943791, 1.79175947],\n",
              "       [1.94591015, 2.07944154, 2.19722458]])"
            ]
          },
          "execution_count": 109,
          "metadata": {},
          "output_type": "execute_result"
        }
      ],
      "source": [
        "# My Example\n",
        "np.log(matrix)"
      ]
    },
    {
      "cell_type": "markdown",
      "metadata": {
        "id": "gU4TdHULNSBa"
      },
      "source": [
        "Other functions return a single value:\n",
        "\n"
      ]
    },
    {
      "cell_type": "code",
      "execution_count": 110,
      "metadata": {
        "colab": {
          "base_uri": "https://localhost:8080/"
        },
        "id": "t9GePNWSM18k",
        "outputId": "ef9e7c8b-2e5e-49df-cee8-3c93a32d561f"
      },
      "outputs": [
        {
          "name": "stdout",
          "output_type": "stream",
          "text": [
            "0.9673790478515796\n",
            "863.38\n",
            "145.83\n"
          ]
        }
      ],
      "source": [
        "# QuantConnect Example\n",
        "np.mean(price_array)\n",
        "\n",
        "print(np.std(price_array))\n",
        "\n",
        "print(np.sum(price_array))\n",
        "\n",
        "print(np.max(price_array))"
      ]
    },
    {
      "cell_type": "code",
      "execution_count": 111,
      "metadata": {},
      "outputs": [
        {
          "name": "stdout",
          "output_type": "stream",
          "text": [
            "5.0\n",
            "2.581988897471611\n",
            "45\n",
            "9\n"
          ]
        }
      ],
      "source": [
        "# My Example\n",
        "print(np.mean(matrix))\n",
        "print(np.std(matrix))\n",
        "print(np.sum(matrix))\n",
        "print(np.max(matrix))"
      ]
    },
    {
      "cell_type": "markdown",
      "metadata": {},
      "source": [
        "The functions above return the mean, standard deviation, total and maximum value of an array.\n",
        "\n",
        "<br>"
      ]
    },
    {
      "cell_type": "markdown",
      "metadata": {
        "id": "_t8AMHAaNbNC"
      },
      "source": [
        "\n",
        "\n",
        "### **Pandas**\n",
        "\n",
        "Pandas is one of the most powerful tools for dealing with financial data. First we need to import Pandas:"
      ]
    },
    {
      "cell_type": "code",
      "execution_count": 112,
      "metadata": {
        "id": "H526VfdqNZm6"
      },
      "outputs": [],
      "source": [
        "import pandas as pd"
      ]
    },
    {
      "cell_type": "markdown",
      "metadata": {
        "id": "HQn0lGkKNhlI"
      },
      "source": [
        "**Series**\n",
        "\n",
        "Series is a one-dimensional labeled array capable of holding any data type (integers, strings, float, Python object, etc.)\n",
        "\n",
        "We create a Series by calling pd.Series(data), where data can be a dictionary, an array or just a scalar value."
      ]
    },
    {
      "cell_type": "code",
      "execution_count": 113,
      "metadata": {
        "colab": {
          "base_uri": "https://localhost:8080/"
        },
        "id": "MDb11Ak4Nm8y",
        "outputId": "0f9292c3-83ac-4c93-cbea-737ee7bc85da"
      },
      "outputs": [
        {
          "name": "stdout",
          "output_type": "stream",
          "text": [
            "0    143.73\n",
            "1    145.83\n",
            "2    143.68\n",
            "3    144.02\n",
            "4    143.50\n",
            "5    142.62\n",
            "dtype: float64\n"
          ]
        }
      ],
      "source": [
        "# QuantConnect Example\n",
        "price_quant = [143.73, 145.83, 143.68, 144.02, 143.5, 142.62]\n",
        "s = pd.Series(price_quant)\n",
        "print(s)"
      ]
    },
    {
      "cell_type": "code",
      "execution_count": 114,
      "metadata": {
        "colab": {
          "base_uri": "https://localhost:8080/"
        },
        "id": "mmx1hGMWN0PQ",
        "outputId": "712c8d22-a539-4c35-a097-d1439dce7b27"
      },
      "outputs": [
        {
          "name": "stdout",
          "output_type": "stream",
          "text": [
            "0       Hi\n",
            "1    there\n",
            "2        I\n",
            "3     Love\n",
            "4      ML!\n",
            "dtype: object\n"
          ]
        }
      ],
      "source": [
        "# My Example\n",
        "someWords: list = [\"Hi\",\"there\",\"I\",\"Love\",\"ML!\"]\n",
        "ser = pd.Series(someWords)\n",
        "print(ser)"
      ]
    },
    {
      "cell_type": "markdown",
      "metadata": {
        "id": "WJppO-YUNyJN"
      },
      "source": [
        "We can customize the indices of a new Series:\n",
        "\n"
      ]
    },
    {
      "cell_type": "code",
      "execution_count": 115,
      "metadata": {
        "colab": {
          "base_uri": "https://localhost:8080/"
        },
        "id": "utJHH9NGOCCr",
        "outputId": "ecb117d3-a9d0-479f-8e5a-f5641f3ec1ed"
      },
      "outputs": [
        {
          "name": "stdout",
          "output_type": "stream",
          "text": [
            "a    143.73\n",
            "b    145.83\n",
            "c    143.68\n",
            "d    144.02\n",
            "e    143.50\n",
            "f    142.62\n",
            "dtype: float64\n"
          ]
        }
      ],
      "source": [
        "# QuantConnect Example\n",
        "s = pd.Series(price_quant, index = ['a', 'b', 'c', 'd', 'e', 'f'])\n",
        "print(s)"
      ]
    },
    {
      "cell_type": "code",
      "execution_count": 116,
      "metadata": {
        "colab": {
          "base_uri": "https://localhost:8080/"
        },
        "id": "CEd6cQbXOC-w",
        "outputId": "7888c305-dcdf-4ccd-890d-f0fab7c4f520"
      },
      "outputs": [
        {
          "name": "stdout",
          "output_type": "stream",
          "text": [
            "a.       Hi\n",
            "b.    there\n",
            "c.        I\n",
            "d.     Love\n",
            "e.      ML!\n",
            "dtype: object\n"
          ]
        }
      ],
      "source": [
        "# My Example\n",
        "otherSer = pd.Series(someWords, index = [\"a.\",\"b.\",\"c.\",\"d.\",\"e.\"])\n",
        "print(otherSer)"
      ]
    },
    {
      "cell_type": "markdown",
      "metadata": {
        "id": "y2nXCFcDOlSV"
      },
      "source": [
        "Or we can change the indices of an existing Series:\n",
        "\n"
      ]
    },
    {
      "cell_type": "code",
      "execution_count": 117,
      "metadata": {
        "colab": {
          "base_uri": "https://localhost:8080/"
        },
        "id": "raPVFQn9OpZz",
        "outputId": "f684e415-e82e-4d78-e85a-ce2a3a227dc6"
      },
      "outputs": [
        {
          "name": "stdout",
          "output_type": "stream",
          "text": [
            "6    143.73\n",
            "5    145.83\n",
            "4    143.68\n",
            "3    144.02\n",
            "2    143.50\n",
            "1    142.62\n",
            "dtype: float64\n"
          ]
        }
      ],
      "source": [
        "# QuantConnect Example\n",
        "s.index = [6,5,4,3,2,1]\n",
        "print(s)"
      ]
    },
    {
      "cell_type": "code",
      "execution_count": 118,
      "metadata": {},
      "outputs": [
        {
          "name": "stdout",
          "output_type": "stream",
          "text": [
            "0.0       Hi\n",
            "0.1    there\n",
            "0.2        I\n",
            "0.3     Love\n",
            "0.4      ML!\n",
            "dtype: object\n"
          ]
        }
      ],
      "source": [
        "# My Example\n",
        "ser.index = [0.0, 0.1, 0.2, 0.3, 0.4]\n",
        "print(ser)"
      ]
    },
    {
      "cell_type": "markdown",
      "metadata": {
        "id": "18dO8kIEO56F"
      },
      "source": [
        "Series is like a list since it can be sliced by index:\n",
        "\n"
      ]
    },
    {
      "cell_type": "code",
      "execution_count": 119,
      "metadata": {
        "colab": {
          "base_uri": "https://localhost:8080/"
        },
        "id": "kCvSPokoO5pv",
        "outputId": "43fc5907-04f0-4052-e0fb-2d8f94d1b3bf"
      },
      "outputs": [
        {
          "name": "stdout",
          "output_type": "stream",
          "text": [
            "5    145.83\n",
            "4    143.68\n",
            "3    144.02\n",
            "2    143.50\n",
            "1    142.62\n",
            "dtype: float64\n",
            "6    143.73\n",
            "5    145.83\n",
            "4    143.68\n",
            "3    144.02\n",
            "dtype: float64\n"
          ]
        }
      ],
      "source": [
        "# QuantConnect Example\n",
        "print(s[1:])\n",
        "print(s[:-2])"
      ]
    },
    {
      "cell_type": "code",
      "execution_count": 120,
      "metadata": {},
      "outputs": [
        {
          "name": "stdout",
          "output_type": "stream",
          "text": [
            "0       Hi\n",
            "1    there\n",
            "dtype: object\n"
          ]
        }
      ],
      "source": [
        "# My Example\n",
        "ser = pd.Series(someWords)\n",
        "print(ser[:2])"
      ]
    },
    {
      "cell_type": "markdown",
      "metadata": {
        "id": "nN4s3hYxPAEM"
      },
      "source": [
        "Series is also like a dictionary whose values can be set or fetched by index label:\n",
        "\n"
      ]
    },
    {
      "cell_type": "code",
      "execution_count": 121,
      "metadata": {
        "colab": {
          "base_uri": "https://localhost:8080/"
        },
        "id": "G3_Lz8GgO-Q1",
        "outputId": "477f0a09-63b8-4dce-bf4f-61b836bfe14a"
      },
      "outputs": [
        {
          "name": "stdout",
          "output_type": "stream",
          "text": [
            "143.68\n",
            "6    143.73\n",
            "5    145.83\n",
            "4      0.00\n",
            "3    144.02\n",
            "2    143.50\n",
            "1    142.62\n",
            "dtype: float64\n"
          ]
        }
      ],
      "source": [
        "# QuantConnect Example\n",
        "print(s[4])\n",
        "s[4] = 0\n",
        "print(s)"
      ]
    },
    {
      "cell_type": "code",
      "execution_count": 122,
      "metadata": {},
      "outputs": [
        {
          "name": "stdout",
          "output_type": "stream",
          "text": [
            "ML!\n"
          ]
        }
      ],
      "source": [
        "# My Example\n",
        "print(ser[4])"
      ]
    },
    {
      "cell_type": "markdown",
      "metadata": {
        "id": "5bcXOFmRPInE"
      },
      "source": [
        "Series can also have a name attribute, which will be used when we make up a Pandas DataFrame using several series.\n",
        "\n"
      ]
    },
    {
      "cell_type": "code",
      "execution_count": 123,
      "metadata": {
        "colab": {
          "base_uri": "https://localhost:8080/"
        },
        "id": "YGE6WmqbPBzr",
        "outputId": "e56da283-b1a8-44a0-fdc3-98f1311de48c"
      },
      "outputs": [
        {
          "name": "stdout",
          "output_type": "stream",
          "text": [
            "0    143.73\n",
            "1    145.83\n",
            "2    143.68\n",
            "3    144.02\n",
            "4    143.50\n",
            "5    142.62\n",
            "Name: Apple Prices, dtype: float64\n",
            "Apple Prices\n"
          ]
        }
      ],
      "source": [
        "# QuantConnect Example\n",
        "s = pd.Series(price_quant, name = 'Apple Prices')\n",
        "print(s)\n",
        "print(s.name)"
      ]
    },
    {
      "cell_type": "code",
      "execution_count": 124,
      "metadata": {},
      "outputs": [
        {
          "name": "stdout",
          "output_type": "stream",
          "text": [
            "0       Hi\n",
            "1    there\n",
            "2        I\n",
            "3     Love\n",
            "4      ML!\n",
            "Name: A Confession!, dtype: object\n"
          ]
        }
      ],
      "source": [
        "# My Example\n",
        "anotherSer = pd.Series(someWords, name = \"A Confession!\")\n",
        "print(anotherSer)"
      ]
    },
    {
      "cell_type": "markdown",
      "metadata": {
        "id": "by9hJPlYPR_y"
      },
      "source": [
        "We can get the statistical summaries of a Series:\n",
        "\n"
      ]
    },
    {
      "cell_type": "code",
      "execution_count": 125,
      "metadata": {
        "colab": {
          "base_uri": "https://localhost:8080/"
        },
        "id": "bDW8RhaIPOht",
        "outputId": "fdb1d105-052b-4cb6-f482-3b0ab9385bc5"
      },
      "outputs": [
        {
          "name": "stdout",
          "output_type": "stream",
          "text": [
            "count      6.000000\n",
            "mean     143.896667\n",
            "std        1.059711\n",
            "min      142.620000\n",
            "25%      143.545000\n",
            "50%      143.705000\n",
            "75%      143.947500\n",
            "max      145.830000\n",
            "Name: Apple Prices, dtype: float64\n"
          ]
        }
      ],
      "source": [
        "# QuantConnect Example\n",
        "print(s.describe())"
      ]
    },
    {
      "cell_type": "code",
      "execution_count": 126,
      "metadata": {},
      "outputs": [
        {
          "name": "stdout",
          "output_type": "stream",
          "text": [
            "count      5\n",
            "unique     5\n",
            "top       Hi\n",
            "freq       1\n",
            "dtype: object\n"
          ]
        }
      ],
      "source": [
        "# My Example\n",
        "print(ser.describe())"
      ]
    },
    {
      "cell_type": "markdown",
      "metadata": {
        "id": "mQD6jKflPW6Q"
      },
      "source": [
        "**Time Index**\n",
        "\n",
        "Pandas has a built-in function specifically for creating date indices: pd.date_range(). We use it to create a new index for our Series:"
      ]
    },
    {
      "cell_type": "code",
      "execution_count": 127,
      "metadata": {
        "colab": {
          "base_uri": "https://localhost:8080/"
        },
        "id": "MtUS4NkyPTd_",
        "outputId": "6c5b9d50-7c13-4aaf-9c9a-51d063ddfc87"
      },
      "outputs": [
        {
          "name": "stdout",
          "output_type": "stream",
          "text": [
            "DatetimeIndex(['2017-01-01', '2017-01-02', '2017-01-03', '2017-01-04',\n",
            "               '2017-01-05', '2017-01-06'],\n",
            "              dtype='datetime64[ns]', freq='D')\n",
            "2017-01-01    143.73\n",
            "2017-01-02    145.83\n",
            "2017-01-03    143.68\n",
            "2017-01-04    144.02\n",
            "2017-01-05    143.50\n",
            "2017-01-06    142.62\n",
            "Freq: D, Name: Apple Prices, dtype: float64\n"
          ]
        }
      ],
      "source": [
        "# QuantConnect Example\n",
        "time_index = pd.date_range('2017-01-01', periods = len(s), freq = 'D')\n",
        "print(time_index)\n",
        "s.index = time_index\n",
        "print(s)"
      ]
    },
    {
      "cell_type": "code",
      "execution_count": 128,
      "metadata": {},
      "outputs": [
        {
          "name": "stdout",
          "output_type": "stream",
          "text": [
            "DatetimeIndex(['2021-01-31', '2021-02-28', '2021-03-31', '2021-04-30',\n",
            "               '2021-05-31'],\n",
            "              dtype='datetime64[ns]', freq='M') \n",
            "\n",
            "2021-01-31       Hi\n",
            "2021-02-28    there\n",
            "2021-03-31        I\n",
            "2021-04-30     Love\n",
            "2021-05-31      ML!\n",
            "Freq: M, Name: A Confession!, dtype: object\n"
          ]
        }
      ],
      "source": [
        "# My Example\n",
        "timeIndexes = pd.date_range(\"01-01-2021\", periods = len(ser), freq = \"M\")\n",
        "anotherSer.index = timeIndexes\n",
        "\n",
        "print(timeIndexes, \"\\n\")\n",
        "print(anotherSer)"
      ]
    },
    {
      "cell_type": "markdown",
      "metadata": {
        "id": "ZvRN_bCs_PDu"
      },
      "source": [
        "Series are usually accessed using the iloc[] and loc[] methods. iloc[] is used to access elements by integer index, and loc[] is used to access the index of the series.\n",
        "\n",
        "iloc[] is necessary when the index of a series are integers, take our previous defined series as Example:"
      ]
    },
    {
      "cell_type": "code",
      "execution_count": 129,
      "metadata": {
        "colab": {
          "base_uri": "https://localhost:8080/"
        },
        "id": "j65gvW0d-1tj",
        "outputId": "27d60c5c-bfdd-47b8-e74d-0948178ce537"
      },
      "outputs": [
        {
          "name": "stdout",
          "output_type": "stream",
          "text": [
            "6    143.73\n",
            "5    145.83\n",
            "4    143.68\n",
            "3    144.02\n",
            "2    143.50\n",
            "1    142.62\n",
            "Name: Apple Prices, dtype: float64\n",
            "142.62\n"
          ]
        }
      ],
      "source": [
        "# QuantConnect Example\n",
        "s.index = [6,5,4,3,2,1]\n",
        "print(s)\n",
        "print(s[1])"
      ]
    },
    {
      "cell_type": "code",
      "execution_count": 130,
      "metadata": {},
      "outputs": [
        {
          "name": "stdout",
          "output_type": "stream",
          "text": [
            "1       Hi\n",
            "2    there\n",
            "3        I\n",
            "4     Love\n",
            "5      ML!\n",
            "Name: A Confession!, dtype: object \n",
            "\n",
            "Hi\n"
          ]
        }
      ],
      "source": [
        "# My Example\n",
        "\n",
        "anotherSer.index = [1,2,3,4,5]\n",
        "print(anotherSer, \"\\n\")\n",
        "\n",
        "print(anotherSer[1])"
      ]
    },
    {
      "cell_type": "markdown",
      "metadata": {
        "id": "ywgeM0KA_UQ6"
      },
      "source": [
        "If we intended to take the second element of the series, we would make a mistake here, because the index are integers. In order to access to the element we want, we use iloc[] here:\n",
        "\n"
      ]
    },
    {
      "cell_type": "code",
      "execution_count": 131,
      "metadata": {
        "colab": {
          "base_uri": "https://localhost:8080/"
        },
        "id": "l3J_BDmV_SmN",
        "outputId": "6531c3a2-e5ef-402e-bc5b-c12f197a5e58"
      },
      "outputs": [
        {
          "name": "stdout",
          "output_type": "stream",
          "text": [
            "145.83\n"
          ]
        }
      ],
      "source": [
        "# QuantConnect Example\n",
        "print(s.iloc[1])"
      ]
    },
    {
      "cell_type": "code",
      "execution_count": 132,
      "metadata": {},
      "outputs": [
        {
          "name": "stdout",
          "output_type": "stream",
          "text": [
            "there\n"
          ]
        }
      ],
      "source": [
        "# My Example\n",
        "print(anotherSer.iloc[1])"
      ]
    },
    {
      "cell_type": "markdown",
      "metadata": {
        "id": "o3C4F1hr_ZCc"
      },
      "source": [
        "While working with time series data, we often use time as the index. Pandas provides us with various methods to access the data by time index.\n",
        "\n"
      ]
    },
    {
      "cell_type": "code",
      "execution_count": 133,
      "metadata": {
        "colab": {
          "base_uri": "https://localhost:8080/"
        },
        "id": "yIzJqqLR_XKl",
        "outputId": "18a98791-42f0-4573-d588-b4a65e98516d"
      },
      "outputs": [
        {
          "name": "stdout",
          "output_type": "stream",
          "text": [
            "143.68\n"
          ]
        }
      ],
      "source": [
        "# QuantConnect Example\n",
        "s.index = time_index\n",
        "print(s['2017-01-03'])"
      ]
    },
    {
      "cell_type": "code",
      "execution_count": 140,
      "metadata": {},
      "outputs": [
        {
          "name": "stdout",
          "output_type": "stream",
          "text": [
            "Love\n"
          ]
        }
      ],
      "source": [
        "# My Example\n",
        "anotherSer.index = timeIndexes\n",
        "print(anotherSer[\"2021-04-30\"])"
      ]
    },
    {
      "cell_type": "markdown",
      "metadata": {
        "id": "peWhobwj_cu6"
      },
      "source": [
        "We can even access to a range of dates:\n",
        "\n"
      ]
    },
    {
      "cell_type": "code",
      "execution_count": 135,
      "metadata": {
        "colab": {
          "base_uri": "https://localhost:8080/"
        },
        "id": "Evo8j7yh_bdo",
        "outputId": "fb340420-354a-4040-9fd3-afc8b12f93f7"
      },
      "outputs": [
        {
          "name": "stdout",
          "output_type": "stream",
          "text": [
            "2017-01-02    145.83\n",
            "2017-01-03    143.68\n",
            "2017-01-04    144.02\n",
            "2017-01-05    143.50\n",
            "Freq: D, Name: Apple Prices, dtype: float64\n"
          ]
        }
      ],
      "source": [
        "# QuantConnect Example\n",
        "print(s['2017-01-02':'2017-01-05'])"
      ]
    },
    {
      "cell_type": "code",
      "execution_count": 143,
      "metadata": {},
      "outputs": [
        {
          "name": "stdout",
          "output_type": "stream",
          "text": [
            "2021-02-28    there\n",
            "2021-03-31        I\n",
            "2021-04-30     Love\n",
            "Freq: M, Name: A Confession!, dtype: object\n"
          ]
        }
      ],
      "source": [
        "# My Example\n",
        "print(anotherSer[\"2021-02-28\":\"2021-04-30\"])"
      ]
    },
    {
      "cell_type": "markdown",
      "metadata": {
        "id": "dJ47ZdGo_hZZ"
      },
      "source": [
        "Series[] provides us a very flexible way to index data. We can add any condition in the square brackets:\n",
        "\n"
      ]
    },
    {
      "cell_type": "code",
      "execution_count": 137,
      "metadata": {
        "colab": {
          "base_uri": "https://localhost:8080/"
        },
        "id": "Anc4i3Wl_ftY",
        "outputId": "16ac1f2d-d66d-4155-f946-a003d7ada565"
      },
      "outputs": [
        {
          "name": "stdout",
          "output_type": "stream",
          "text": [
            "2017-01-01    143.73\n",
            "2017-01-03    143.68\n",
            "2017-01-05    143.50\n",
            "2017-01-06    142.62\n",
            "Name: Apple Prices, dtype: float64\n",
            "2017-01-04    144.02\n",
            "Freq: D, Name: Apple Prices, dtype: float64\n"
          ]
        }
      ],
      "source": [
        "# QuantConnect Example\n",
        "print(s[s < np.mean(s)])\n",
        "print(s[(s > np.mean(s)) & (s < np.mean(s) + 1.64*np.std(s))])"
      ]
    },
    {
      "cell_type": "code",
      "execution_count": 150,
      "metadata": {},
      "outputs": [
        {
          "name": "stdout",
          "output_type": "stream",
          "text": [
            "0    1\n",
            "1    2\n",
            "dtype: int64\n"
          ]
        }
      ],
      "source": [
        "# My Example\n",
        "naturals: list = [1,2,3,4,5]\n",
        "nSer = pd.Series(naturals)\n",
        "print(nSer[nSer < np.mean(nSer)])"
      ]
    },
    {
      "cell_type": "markdown",
      "metadata": {},
      "source": [
        "As demonstrated, we can use logical operators like & (and), | (or) and ~ (not) to group multiple conditions.\n",
        "\n",
        "<br>"
      ]
    },
    {
      "cell_type": "markdown",
      "metadata": {
        "id": "pU4CNPK1_mfe"
      },
      "source": [
        "### **Summary**\n",
        "\n",
        "Here we have introduced NumPy and Pandas for scientific computing in Python. In the next chapter, we will dive into Pandas to learn resampling and manipulating Pandas DataFrame, which are commonly used in financial data analysis."
      ]
    }
  ],
  "metadata": {
    "colab": {
      "authorship_tag": "ABX9TyNXbAvEFu5KvZY15NiUS8HH",
      "collapsed_sections": [
        "nrraZc-DBLlX",
        "WD2-KGPaBU0W"
      ],
      "include_colab_link": true,
      "name": "Jumorap_QuanconnectTutortials.ipynb",
      "provenance": []
    },
    "interpreter": {
      "hash": "2be5faf79681da6f2a61fdfdd5405d65d042280f7fba6178067603e3a2925119"
    },
    "kernelspec": {
      "display_name": "Python 3.10.0 64-bit",
      "name": "python3"
    },
    "language_info": {
      "codemirror_mode": {
        "name": "ipython",
        "version": 3
      },
      "file_extension": ".py",
      "mimetype": "text/x-python",
      "name": "python",
      "nbconvert_exporter": "python",
      "pygments_lexer": "ipython3",
      "version": "3.10.0"
    }
  },
  "nbformat": 4,
  "nbformat_minor": 0
}
