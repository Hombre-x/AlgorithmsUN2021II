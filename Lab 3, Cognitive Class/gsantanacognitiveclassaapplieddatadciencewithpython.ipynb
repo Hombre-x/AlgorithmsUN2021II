{
 "cells": [
  {
   "cell_type": "markdown",
   "metadata": {},
   "source": [
    "# Python 101 for Data Science\n",
    "\n",
    "![Certificate g](https://drive.google.com/uc?id=1Dx9bnjq-jqJElF2opV243iwCvOi86qeW)"
   ]
  },
  {
   "cell_type": "markdown",
   "metadata": {},
   "source": [
    "# Data Analysis with Python\n",
    "\n",
    "![Certificate e](https://drive.google.com/uc?id=1WcbKebs1EixtOh0l8mvdliyqi9ZaURqQ)"
   ]
  },
  {
   "cell_type": "markdown",
   "metadata": {},
   "source": [
    "# Data Visualization with Python\n",
    "\n",
    "![Certificate f](https://drive.google.com/uc?id=1k8euUUXlWEG5ygBIqfh36_jfxwZQhyvZ)"
   ]
  }
 ],
 "metadata": {
  "language_info": {
   "name": "python"
  },
  "orig_nbformat": 4
 },
 "nbformat": 4,
 "nbformat_minor": 2
}
